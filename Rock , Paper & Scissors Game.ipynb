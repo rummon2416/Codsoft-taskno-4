{
 "cells": [
  {
   "cell_type": "code",
   "execution_count": 1,
   "id": "f02a3c65",
   "metadata": {},
   "outputs": [],
   "source": [
    "import random"
   ]
  },
  {
   "cell_type": "code",
   "execution_count": 2,
   "id": "4420009a",
   "metadata": {},
   "outputs": [],
   "source": [
    "def get_user_choice():\n",
    "    user_choice = input(\"Enter your choice (rock, paper, or scissors): \").lower()\n",
    "    while user_choice not in ['rock', 'paper', 'scissors']:\n",
    "        print(\"Invalid choice. Please enter 'rock', 'paper', or 'scissors'.\")\n",
    "        user_choice = input(\"Enter your choice (rock, paper, or scissors): \").lower()\n",
    "    return user_choice"
   ]
  },
  {
   "cell_type": "code",
   "execution_count": 3,
   "id": "e2ea553d",
   "metadata": {},
   "outputs": [],
   "source": [
    "def get_computer_choice():\n",
    "    return random.choice(['rock', 'paper', 'scissors'])"
   ]
  },
  {
   "cell_type": "code",
   "execution_count": 4,
   "id": "3231642d",
   "metadata": {},
   "outputs": [],
   "source": [
    "def determine_winner(user_choice, computer_choice):\n",
    "    if user_choice == computer_choice:\n",
    "        return \"It's a tie!\"\n",
    "    elif (user_choice == 'rock' and computer_choice == 'scissors') or \\\n",
    "         (user_choice == 'paper' and computer_choice == 'rock') or \\\n",
    "         (user_choice == 'scissors' and computer_choice == 'paper'):\n",
    "        return \"You win!\"\n",
    "    else:\n",
    "        return \"Computer wins!\""
   ]
  },
  {
   "cell_type": "code",
   "execution_count": null,
   "id": "a3d5543d",
   "metadata": {},
   "outputs": [
    {
     "name": "stdout",
     "output_type": "stream",
     "text": [
      "Let's play Rock, Paper, Scissors!\n"
     ]
    }
   ],
   "source": [
    "def play_game():\n",
    "    print(\"Let's play Rock, Paper, Scissors!\")\n",
    "    user_choice = get_user_choice()\n",
    "    computer_choice = get_computer_choice()\n",
    "    print(\"You chose:\", user_choice)\n",
    "    print(\"Computer chose:\", computer_choice)\n",
    "    print(determine_winner(user_choice, computer_choice))\n",
    "\n",
    "# Main program\n",
    "play_game()\n"
   ]
  },
  {
   "cell_type": "code",
   "execution_count": null,
   "id": "2c2d746e",
   "metadata": {},
   "outputs": [],
   "source": []
  }
 ],
 "metadata": {
  "kernelspec": {
   "display_name": "Python 3 (ipykernel)",
   "language": "python",
   "name": "python3"
  },
  "language_info": {
   "codemirror_mode": {
    "name": "ipython",
    "version": 3
   },
   "file_extension": ".py",
   "mimetype": "text/x-python",
   "name": "python",
   "nbconvert_exporter": "python",
   "pygments_lexer": "ipython3",
   "version": "3.11.5"
  }
 },
 "nbformat": 4,
 "nbformat_minor": 5
}
